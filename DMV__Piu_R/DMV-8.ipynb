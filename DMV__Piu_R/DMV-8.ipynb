{
 "cells": [
  {
   "cell_type": "markdown",
   "metadata": {
    "id": "gXeul3cwMw9O"
   },
   "source": [
    "**Problem Statement: Analyzing Weather Data from OpenWeatherMap API**\n",
    "\n",
    "Dataset: Weather data retrieved from OpenWeatherMap API\n",
    "Description: The goal is to interact with the OpenWeatherMap API to retrieve weather data\n",
    "for a specific location and perform data modeling and visualization to analyze weather\n",
    "patterns over time.\n",
    "Tasks to Perform:\n",
    "1. Register and obtain API key from OpenWeatherMap.\n",
    "2. Interact with the OpenWeatherMap API using the API key to retrieve weather data for\n",
    "a specific location.\n",
    "3. Extract relevant weather attributes such as temperature, humidity, wind speed, and\n",
    "precipitation from the API response.\n",
    "4. Clean and preprocess the retrieved data, handling missing values or inconsistent\n",
    "formats.\n",
    "5. Perform data modeling to analyze weather patterns, such as calculating average\n",
    "temperature, maximum/minimum values, or trends over time.\n",
    "6. Visualize the weather data using appropriate plots, such as line charts, bar plots, or\n",
    "scatter plots, to represent temperature changes, precipitation levels, or wind speed\n",
    "variations.\n",
    "7. Apply data aggregation techniques to summarize weather statistics by specific time\n",
    "periods (e.g., daily, monthly, seasonal).\n",
    "8. Incorporate geographical information, if available, to create maps or geospatial\n",
    "visualizations representing weather patterns across different locations.\n",
    "9. Explore and visualize relationships between weather attributes, such as temperature\n",
    "and humidity, using correlation plots or heatmaps."
   ]
  },
  {
   "cell_type": "code",
   "execution_count": 1,
   "metadata": {
    "executionInfo": {
     "elapsed": 537,
     "status": "ok",
     "timestamp": 1690180435233,
     "user": {
      "displayName": "Rajashree Ghule",
      "userId": "14177409402572967134"
     },
     "user_tz": -330
    },
    "id": "rlUbH2xDQ8I9"
   },
   "outputs": [],
   "source": [
    "import requests\n",
    "import pandas as pd\n",
    "import datetime\n",
    "\n",
    "# Set your OpenWeatherMap API key\n",
    "api_key = 'fb365aa6104829b44455572365ff3b4e'"
   ]
  },
  {
   "cell_type": "markdown",
   "metadata": {
    "id": "br1iTRe9qMsq"
   },
   "source": [
    "Get the lat(itude) and lon(gitude) from [here](https://www.latlong.net/).\n"
   ]
  },
  {
   "cell_type": "code",
   "execution_count": 2,
   "metadata": {
    "executionInfo": {
     "elapsed": 4,
     "status": "ok",
     "timestamp": 1690180480833,
     "user": {
      "displayName": "Rajashree Ghule",
      "userId": "14177409402572967134"
     },
     "user_tz": -330
    },
    "id": "r4vRz31bqKbC"
   },
   "outputs": [],
   "source": [
    "\n",
    "# Set the location for which you want to retrieve weather data\n",
    "lat = 18.184135\n",
    "lon = 74.610764\n",
    "\n",
    "#https://openweathermap.org/api/one-call-3#how       How to use api call\n",
    "# Construct the API URL\n",
    "api_url = f\"http://api.openweathermap.org/data/2.5/forecast?lat={lat}&lon={lon}&appid={api_key}\"\n"
   ]
  },
  {
   "cell_type": "code",
   "execution_count": 3,
   "metadata": {
    "executionInfo": {
     "elapsed": 651,
     "status": "ok",
     "timestamp": 1690180506435,
     "user": {
      "displayName": "Rajashree Ghule",
      "userId": "14177409402572967134"
     },
     "user_tz": -330
    },
    "id": "gz06FRhBVHFo"
   },
   "outputs": [],
   "source": [
    "\n",
    "# Send a GET request to the API\n",
    "response = requests.get(api_url)\n",
    "weather_data = response.json()       #pass response to weather_data object(dictionary)\n"
   ]
  },
  {
   "cell_type": "code",
   "execution_count": 4,
   "metadata": {
    "colab": {
     "base_uri": "https://localhost:8080/"
    },
    "executionInfo": {
     "elapsed": 384,
     "status": "ok",
     "timestamp": 1690180512355,
     "user": {
      "displayName": "Rajashree Ghule",
      "userId": "14177409402572967134"
     },
     "user_tz": -330
    },
    "id": "hw1QG2EnYsi3",
    "outputId": "befa695f-7357-4358-cef0-2c9ef4e23432"
   },
   "outputs": [
    {
     "data": {
      "text/plain": [
       "dict_keys(['cod', 'message', 'cnt', 'list', 'city'])"
      ]
     },
     "execution_count": 4,
     "metadata": {},
     "output_type": "execute_result"
    }
   ],
   "source": [
    "weather_data.keys()"
   ]
  },
  {
   "cell_type": "code",
   "execution_count": 5,
   "metadata": {
    "colab": {
     "base_uri": "https://localhost:8080/"
    },
    "executionInfo": {
     "elapsed": 378,
     "status": "ok",
     "timestamp": 1690180517899,
     "user": {
      "displayName": "Rajashree Ghule",
      "userId": "14177409402572967134"
     },
     "user_tz": -330
    },
    "id": "jfDuW4LCY3SV",
    "outputId": "7c975013-27f1-42de-f476-09e0e1d97c8c"
   },
   "outputs": [
    {
     "data": {
      "text/plain": [
       "{'dt': 1692597600,\n",
       " 'main': {'temp': 303.59,\n",
       "  'feels_like': 304.37,\n",
       "  'temp_min': 303.59,\n",
       "  'temp_max': 303.59,\n",
       "  'pressure': 1008,\n",
       "  'sea_level': 1008,\n",
       "  'grnd_level': 946,\n",
       "  'humidity': 47,\n",
       "  'temp_kf': 0},\n",
       " 'weather': [{'id': 801,\n",
       "   'main': 'Clouds',\n",
       "   'description': 'few clouds',\n",
       "   'icon': '02d'}],\n",
       " 'clouds': {'all': 21},\n",
       " 'wind': {'speed': 6.97, 'deg': 283, 'gust': 7.41},\n",
       " 'visibility': 10000,\n",
       " 'pop': 0,\n",
       " 'sys': {'pod': 'd'},\n",
       " 'dt_txt': '2023-08-21 06:00:00'}"
      ]
     },
     "execution_count": 5,
     "metadata": {},
     "output_type": "execute_result"
    }
   ],
   "source": [
    "weather_data['list'][0]"
   ]
  },
  {
   "cell_type": "code",
   "execution_count": 6,
   "metadata": {
    "colab": {
     "base_uri": "https://localhost:8080/"
    },
    "executionInfo": {
     "elapsed": 392,
     "status": "ok",
     "timestamp": 1690180523619,
     "user": {
      "displayName": "Rajashree Ghule",
      "userId": "14177409402572967134"
     },
     "user_tz": -330
    },
    "id": "cRGV_t3ct4Z8",
    "outputId": "2728af83-2110-4bd1-c911-a959b57b8e81"
   },
   "outputs": [
    {
     "data": {
      "text/plain": [
       "40"
      ]
     },
     "execution_count": 6,
     "metadata": {},
     "output_type": "execute_result"
    }
   ],
   "source": [
    "len(weather_data['list'])"
   ]
  },
  {
   "cell_type": "code",
   "execution_count": 7,
   "metadata": {
    "colab": {
     "base_uri": "https://localhost:8080/",
     "height": 35
    },
    "executionInfo": {
     "elapsed": 480,
     "status": "ok",
     "timestamp": 1690180526747,
     "user": {
      "displayName": "Rajashree Ghule",
      "userId": "14177409402572967134"
     },
     "user_tz": -330
    },
    "id": "PJxVjrI-fH0C",
    "outputId": "2a4aab6f-3d09-463f-fc46-e557510b70dd"
   },
   "outputs": [
    {
     "data": {
      "text/plain": [
       "'few clouds'"
      ]
     },
     "execution_count": 7,
     "metadata": {},
     "output_type": "execute_result"
    }
   ],
   "source": [
    "weather_data['list'][0]['weather'][0]['description']"
   ]
  },
  {
   "cell_type": "code",
   "execution_count": 8,
   "metadata": {
    "executionInfo": {
     "elapsed": 3,
     "status": "ok",
     "timestamp": 1690180529879,
     "user": {
      "displayName": "Rajashree Ghule",
      "userId": "14177409402572967134"
     },
     "user_tz": -330
    },
    "id": "FwKhXsJ9oJAR"
   },
   "outputs": [],
   "source": [
    "#getting the data from dictionary and taking into one variable\n",
    "# Extract relevant weather attributes using list comprehension\n",
    "temperatures = [item['main']['temp'] for item in weather_data['list']]      #it will extract all values (40) and putting into one variable\n",
    "timestamps = [pd.to_datetime(item['dt'], unit='s') for item in weather_data['list']]\n",
    "temperature = [item['main']['temp'] for item in weather_data['list']]\n",
    "humidity = [item['main']['humidity'] for item in weather_data['list']]\n",
    "wind_speed = [item['wind']['speed'] for item in weather_data['list']]\n",
    "weather_description = [item['weather'][0]['description'] for item in weather_data['list']]\n",
    "\n",
    "# Create a pandas DataFrame with the extracted weather data\n",
    "weather_df = pd.DataFrame({\n",
    "    'Timestamp': timestamps,\n",
    "    'Temperature': temperatures,\n",
    "    'humidity': humidity,\n",
    "    'wind_speed': wind_speed,\n",
    "    'weather_description': weather_description,\n",
    "})\n",
    "\n",
    "# Set the Timestamp column as the DataFrame's index\n",
    "weather_df.set_index('Timestamp', inplace=True)"
   ]
  },
  {
   "cell_type": "code",
   "execution_count": 9,
   "metadata": {
    "executionInfo": {
     "elapsed": 4,
     "status": "ok",
     "timestamp": 1690180533427,
     "user": {
      "displayName": "Rajashree Ghule",
      "userId": "14177409402572967134"
     },
     "user_tz": -330
    },
    "id": "8XlUYLorpJKe"
   },
   "outputs": [],
   "source": [
    "max_temp = weather_df['Temperature'].max()"
   ]
  },
  {
   "cell_type": "code",
   "execution_count": 10,
   "metadata": {
    "colab": {
     "base_uri": "https://localhost:8080/"
    },
    "executionInfo": {
     "elapsed": 615,
     "status": "ok",
     "timestamp": 1690180542687,
     "user": {
      "displayName": "Rajashree Ghule",
      "userId": "14177409402572967134"
     },
     "user_tz": -330
    },
    "id": "YVBnpIYaukMS",
    "outputId": "1b62c284-8fd2-4f6d-a9f6-57eb0a8d6b1b"
   },
   "outputs": [
    {
     "data": {
      "text/plain": [
       "306.11"
      ]
     },
     "execution_count": 10,
     "metadata": {},
     "output_type": "execute_result"
    }
   ],
   "source": [
    "max_temp"
   ]
  },
  {
   "cell_type": "code",
   "execution_count": 11,
   "metadata": {
    "executionInfo": {
     "elapsed": 1,
     "status": "ok",
     "timestamp": 1690180540322,
     "user": {
      "displayName": "Rajashree Ghule",
      "userId": "14177409402572967134"
     },
     "user_tz": -330
    },
    "id": "GC1lsrO39qXk"
   },
   "outputs": [],
   "source": [
    "min_temp = weather_df['Temperature'].min()"
   ]
  },
  {
   "cell_type": "code",
   "execution_count": 12,
   "metadata": {
    "colab": {
     "base_uri": "https://localhost:8080/"
    },
    "executionInfo": {
     "elapsed": 606,
     "status": "ok",
     "timestamp": 1690180553001,
     "user": {
      "displayName": "Rajashree Ghule",
      "userId": "14177409402572967134"
     },
     "user_tz": -330
    },
    "id": "RM-rtsdB-CqL",
    "outputId": "6cddf2ea-ea0a-4d04-cbd0-4378cd9eaa5b"
   },
   "outputs": [
    {
     "data": {
      "text/plain": [
       "295.43"
      ]
     },
     "execution_count": 12,
     "metadata": {},
     "output_type": "execute_result"
    }
   ],
   "source": [
    "min_temp"
   ]
  },
  {
   "cell_type": "code",
   "execution_count": 13,
   "metadata": {
    "colab": {
     "base_uri": "https://localhost:8080/"
    },
    "executionInfo": {
     "elapsed": 609,
     "status": "ok",
     "timestamp": 1690180558214,
     "user": {
      "displayName": "Rajashree Ghule",
      "userId": "14177409402572967134"
     },
     "user_tz": -330
    },
    "id": "72O4m6oBgOHy",
    "outputId": "84b74533-752d-4b9d-854e-a46cb9d15214"
   },
   "outputs": [
    {
     "name": "stdout",
     "output_type": "stream",
     "text": [
      "                     Temperature  humidity  wind_speed weather_description\n",
      "Timestamp                                                                 \n",
      "2023-08-21 06:00:00        30.44        47        6.97          few clouds\n",
      "2023-08-21 09:00:00        30.74        46        8.72    scattered clouds\n",
      "2023-08-21 12:00:00        29.69        50        8.51       broken clouds\n",
      "2023-08-21 15:00:00        25.99        65        6.32    scattered clouds\n",
      "2023-08-21 18:00:00        24.23        72        4.61    scattered clouds\n",
      "2023-08-21 21:00:00        23.19        77        4.04          few clouds\n",
      "2023-08-22 00:00:00        22.28        81        3.69    scattered clouds\n",
      "2023-08-22 03:00:00        24.94        68        4.88     overcast clouds\n",
      "2023-08-22 06:00:00        29.64        47        6.59     overcast clouds\n",
      "2023-08-22 09:00:00        32.96        37        7.53    scattered clouds\n",
      "2023-08-22 12:00:00        30.03        48        9.78       broken clouds\n",
      "2023-08-22 15:00:00        25.72        66        7.75     overcast clouds\n",
      "2023-08-22 18:00:00        24.24        68        6.58     overcast clouds\n",
      "2023-08-22 21:00:00        23.22        74        5.06     overcast clouds\n",
      "2023-08-23 00:00:00        22.66        78        4.04     overcast clouds\n",
      "2023-08-23 03:00:00        24.76        69        4.96     overcast clouds\n",
      "2023-08-23 06:00:00        30.12        48        6.60     overcast clouds\n",
      "2023-08-23 09:00:00        32.24        41        8.00       broken clouds\n",
      "2023-08-23 12:00:00        29.29        51        8.64     overcast clouds\n",
      "2023-08-23 15:00:00        25.67        63        6.92     overcast clouds\n",
      "2023-08-23 18:00:00        24.33        71        5.84     overcast clouds\n",
      "2023-08-23 21:00:00        23.71        75        4.99     overcast clouds\n",
      "2023-08-24 00:00:00        23.16        79        3.81     overcast clouds\n",
      "2023-08-24 03:00:00        25.41        67        5.30     overcast clouds\n",
      "2023-08-24 06:00:00        28.19        55        6.74     overcast clouds\n",
      "2023-08-24 09:00:00        31.07        45        9.79     overcast clouds\n",
      "2023-08-24 12:00:00        28.64        52        9.19     overcast clouds\n",
      "2023-08-24 15:00:00        25.12        69        6.32    scattered clouds\n",
      "2023-08-24 18:00:00        24.04        74        4.48       broken clouds\n",
      "2023-08-24 21:00:00        23.88        74        4.50     overcast clouds\n",
      "2023-08-25 00:00:00        22.61        81        3.42     overcast clouds\n",
      "2023-08-25 03:00:00        24.61        70        3.67     overcast clouds\n",
      "2023-08-25 06:00:00        29.54        50        8.11     overcast clouds\n",
      "2023-08-25 09:00:00        27.86        57        8.97     overcast clouds\n",
      "2023-08-25 12:00:00        25.34        67        7.42     overcast clouds\n",
      "2023-08-25 15:00:00        24.47        70        6.07     overcast clouds\n",
      "2023-08-25 18:00:00        24.01        72        4.43     overcast clouds\n",
      "2023-08-25 21:00:00        22.79        79        3.07       broken clouds\n",
      "2023-08-26 00:00:00        22.56        81        2.39       broken clouds\n",
      "2023-08-26 03:00:00        25.03        68        5.06     overcast clouds\n"
     ]
    }
   ],
   "source": [
    "# Clean and preprocess the data\n",
    "\n",
    "# Handling missing values\n",
    "weather_df.fillna(0, inplace=True)  # Replace missing values with 0 or appropriate value\n",
    "\n",
    "# Handling inconsistent format (if applicable)\n",
    "weather_df['Temperature'] = weather_df['Temperature'].apply(lambda x: x - 273.15 if isinstance(x, float) else x)   # Convert temperature from Kelvin to Celsius\n",
    "\n",
    "# Print the cleaned and preprocessed data\n",
    "print(weather_df)"
   ]
  },
  {
   "cell_type": "code",
   "execution_count": null,
   "metadata": {
    "executionInfo": {
     "elapsed": 379,
     "status": "ok",
     "timestamp": 1690180562614,
     "user": {
      "displayName": "Rajashree Ghule",
      "userId": "14177409402572967134"
     },
     "user_tz": -330
    },
    "id": "GDGE7yS7-IIC"
   },
   "outputs": [],
   "source": []
  },
  {
   "cell_type": "code",
   "execution_count": 14,
   "metadata": {
    "colab": {
     "base_uri": "https://localhost:8080/",
     "height": 1000
    },
    "executionInfo": {
     "elapsed": 1654,
     "status": "ok",
     "timestamp": 1690180567749,
     "user": {
      "displayName": "Rajashree Ghule",
      "userId": "14177409402572967134"
     },
     "user_tz": -330
    },
    "id": "E2JOiIA7qtts",
    "outputId": "bb95f88c-69e4-4c4a-fa1d-2139db15f2dd"
   },
   "outputs": [
    {
     "data": {
      "image/png": "[encoded data removed]",
      "text/plain": [
       "<Figure size 720x432 with 1 Axes>"
      ]
     },
     "metadata": {
      "needs_background": "light"
     },
     "output_type": "display_data"
    },
    {
     "data": {
      "image/png": "[encoded data removed]",
      "text/plain": [
       "<Figure size 720x432 with 1 Axes>"
      ]
     },
     "metadata": {
      "needs_background": "light"
     },
     "output_type": "display_data"
    },
    {
     "data": {
      "image/png": "[encoded data removed]",
      "text/plain": [
       "<Figure size 720x432 with 1 Axes>"
      ]
     },
     "metadata": {
      "needs_background": "light"
     },
     "output_type": "display_data"
    }
   ],
   "source": [
    "import matplotlib.pyplot as plt\n",
    "\n",
    "daily_mean_temp = weather_df['Temperature'].resample('D').mean()\n",
    "daily_mean_humidity = weather_df['humidity'].resample('D').mean()\n",
    "daily_mean_wind_speed = weather_df['wind_speed'].resample('D').mean()\n",
    "\n",
    "# Plot the mean daily temperature over time (Line plot)\n",
    "plt.figure(figsize=(10, 6))\n",
    "daily_mean_temp.plot(color='red', linestyle='-', marker='o')\n",
    "plt.title('Mean Daily Temperature')\n",
    "plt.xlabel('Date')\n",
    "plt.ylabel('Temperature (°C)')\n",
    "plt.grid(True)\n",
    "plt.show()\n",
    "\n",
    "# Plot the mean daily humidity over time (Bar plot)\n",
    "plt.figure(figsize=(10, 6))\n",
    "daily_mean_humidity.plot(kind='bar', color='blue')\n",
    "plt.title('Mean Daily Humidity')\n",
    "plt.xlabel('Date')\n",
    "plt.ylabel('Humidity (%)')\n",
    "plt.grid(True)\n",
    "plt.show()\n",
    "\n",
    "# Plot the relationship between temperature and wind speed (Scatter plot)\n",
    "plt.figure(figsize=(10, 6))\n",
    "plt.scatter(weather_df['Temperature'], weather_df['wind_speed'], color='green')\n",
    "plt.title('Temperature vs. Wind Speed')\n",
    "plt.xlabel('Temperature (°C)')\n",
    "plt.ylabel('Wind Speed (m/s)')\n",
    "plt.grid(True)\n",
    "plt.show()"
   ]
  },
  {
   "cell_type": "markdown",
   "metadata": {
    "id": "miBeb9mJ0Mi_"
   },
   "source": [
    "###Heatmap"
   ]
  },
  {
   "cell_type": "code",
   "execution_count": 15,
   "metadata": {
    "colab": {
     "base_uri": "https://localhost:8080/",
     "height": 907
    },
    "executionInfo": {
     "elapsed": 3165,
     "status": "ok",
     "timestamp": 1690180575688,
     "user": {
      "displayName": "Rajashree Ghule",
      "userId": "14177409402572967134"
     },
     "user_tz": -330
    },
    "id": "p9sIO-KfznDW",
    "outputId": "e69a8c26-b5fa-4f76-8d9e-e8dfaf07fb4e"
   },
   "outputs": [
    {
     "data": {
      "image/png": "[encoded data removed]",
      "text/plain": [
       "<Figure size 432x288 with 2 Axes>"
      ]
     },
     "metadata": {
      "needs_background": "light"
     },
     "output_type": "display_data"
    },
    {
     "data": {
      "image/png": "[encoded data removed]",
      "text/plain": [
       "<Figure size 432x288 with 1 Axes>"
      ]
     },
     "metadata": {
      "needs_background": "light"
     },
     "output_type": "display_data"
    }
   ],
   "source": [
    "import seaborn as sns\n",
    "\n",
    "heatmap_data = weather_df[['Temperature', 'humidity']]\n",
    "sns.heatmap(heatmap_data, annot=True, cmap='coolwarm')\n",
    "plt.title('Temperature vs Humidity Heatmap')\n",
    "plt.show()\n",
    "\n",
    "# Create a scatter plot to visualize the relationship between temperature and humidity\n",
    "plt.scatter(weather_df['Temperature'], weather_df['humidity'])\n",
    "plt.xlabel('Temperature (°C)')\n",
    "plt.ylabel('Humidity (%)')\n",
    "plt.title('Temperature vs Humidity Scatter Plot')\n",
    "plt.show()"
   ]
  },
  {
   "cell_type": "code",
   "execution_count": 17,
   "metadata": {},
   "outputs": [
    {
     "name": "stdout",
     "output_type": "stream",
     "text": [
      "Collecting geopandas\n",
      "  Downloading geopandas-0.13.2-py3-none-any.whl (1.1 MB)\n",
      "Requirement already satisfied: packaging in c:\\users\\ketul\\anaconda3\\lib\\site-packages (from geopandas) (20.9)\n",
      "Collecting shapely>=1.7.1\n",
      "  Downloading shapely-2.0.1-cp38-cp38-win_amd64.whl (1.4 MB)\n",
      "Collecting fiona>=1.8.19\n",
      "  Downloading Fiona-1.9.4.post1-cp38-cp38-win_amd64.whl (22.7 MB)\n",
      "Collecting pyproj>=3.0.1\n",
      "  Downloading pyproj-3.5.0-cp38-cp38-win_amd64.whl (5.1 MB)\n",
      "Requirement already satisfied: pandas>=1.1.0 in c:\\users\\ketul\\anaconda3\\lib\\site-packages (from geopandas) (1.2.4)\n",
      "Requirement already satisfied: attrs>=19.2.0 in c:\\users\\ketul\\anaconda3\\lib\\site-packages (from fiona>=1.8.19->geopandas) (20.3.0)\n",
      "Requirement already satisfied: importlib-metadata in c:\\users\\ketul\\anaconda3\\lib\\site-packages (from fiona>=1.8.19->geopandas) (4.12.0)\n",
      "Collecting click~=8.0\n",
      "  Downloading click-8.1.7-py3-none-any.whl (97 kB)\n",
      "Collecting click-plugins>=1.0\n",
      "  Downloading click_plugins-1.1.1-py2.py3-none-any.whl (7.5 kB)\n",
      "Collecting cligj>=0.5\n",
      "  Downloading cligj-0.7.2-py3-none-any.whl (7.1 kB)\n",
      "Requirement already satisfied: certifi in c:\\users\\ketul\\anaconda3\\lib\\site-packages (from fiona>=1.8.19->geopandas) (2020.12.5)\n",
      "Requirement already satisfied: six in c:\\users\\ketul\\anaconda3\\lib\\site-packages (from fiona>=1.8.19->geopandas) (1.15.0)\n",
      "Requirement already satisfied: colorama in c:\\users\\ketul\\anaconda3\\lib\\site-packages (from click~=8.0->fiona>=1.8.19->geopandas) (0.4.4)\n",
      "Requirement already satisfied: pytz>=2017.3 in c:\\users\\ketul\\anaconda3\\lib\\site-packages (from pandas>=1.1.0->geopandas) (2021.1)\n",
      "Requirement already satisfied: python-dateutil>=2.7.3 in c:\\users\\ketul\\anaconda3\\lib\\site-packages (from pandas>=1.1.0->geopandas) (2.8.1)\n",
      "Requirement already satisfied: numpy>=1.16.5 in c:\\users\\ketul\\anaconda3\\lib\\site-packages (from pandas>=1.1.0->geopandas) (1.20.1)\n",
      "Requirement already satisfied: zipp>=0.5 in c:\\users\\ketul\\anaconda3\\lib\\site-packages (from importlib-metadata->fiona>=1.8.19->geopandas) (3.4.1)\n",
      "Requirement already satisfied: pyparsing>=2.0.2 in c:\\users\\ketul\\anaconda3\\lib\\site-packages (from packaging->geopandas) (2.4.7)\n",
      "Installing collected packages: click, cligj, click-plugins, shapely, pyproj, fiona, geopandas\n",
      "  Attempting uninstall: click\n",
      "    Found existing installation: click 7.1.2\n",
      "    Uninstalling click-7.1.2:\n",
      "      Successfully uninstalled click-7.1.2\n",
      "Successfully installed click-8.1.7 click-plugins-1.1.1 cligj-0.7.2 fiona-1.9.4.post1 geopandas-0.13.2 pyproj-3.5.0 shapely-2.0.1\n",
      "Note: you may need to restart the kernel to use updated packages.\n"
     ]
    }
   ],
   "source": [
    "pip install geopandas"
   ]
  },
  {
   "cell_type": "code",
   "execution_count": 19,
   "metadata": {},
   "outputs": [
    {
     "name": "stdout",
     "output_type": "stream",
     "text": [
      "Collecting folium\n",
      "  Downloading folium-0.14.0-py2.py3-none-any.whl (102 kB)\n",
      "Requirement already satisfied: jinja2>=2.9 in c:\\users\\ketul\\anaconda3\\lib\\site-packages (from folium) (2.11.3)\n",
      "Requirement already satisfied: requests in c:\\users\\ketul\\anaconda3\\lib\\site-packages (from folium) (2.25.1)\n",
      "Requirement already satisfied: numpy in c:\\users\\ketul\\anaconda3\\lib\\site-packages (from folium) (1.20.1)\n",
      "Collecting branca>=0.6.0\n",
      "  Downloading branca-0.6.0-py3-none-any.whl (24 kB)\n",
      "Requirement already satisfied: MarkupSafe>=0.23 in c:\\users\\ketul\\anaconda3\\lib\\site-packages (from jinja2>=2.9->folium) (1.1.1)\n",
      "Requirement already satisfied: idna<3,>=2.5 in c:\\users\\ketul\\anaconda3\\lib\\site-packages (from requests->folium) (2.10)\n",
      "Requirement already satisfied: chardet<5,>=3.0.2 in c:\\users\\ketul\\anaconda3\\lib\\site-packages (from requests->folium) (4.0.0)\n",
      "Requirement already satisfied: certifi>=2017.4.17 in c:\\users\\ketul\\anaconda3\\lib\\site-packages (from requests->folium) (2020.12.5)\n",
      "Requirement already satisfied: urllib3<1.27,>=1.21.1 in c:\\users\\ketul\\anaconda3\\lib\\site-packages (from requests->folium) (1.26.4)\n",
      "Installing collected packages: branca, folium\n",
      "Successfully installed branca-0.6.0 folium-0.14.0\n",
      "Note: you may need to restart the kernel to use updated packages.\n"
     ]
    }
   ],
   "source": [
    "pip install folium"
   ]
  },
  {
   "cell_type": "markdown",
   "metadata": {
    "id": "9F7Sva9qw6G9"
   },
   "source": [
    "###Geospatial Map"
   ]
  },
  {
   "cell_type": "code",
   "execution_count": 20,
   "metadata": {
    "colab": {
     "base_uri": "https://localhost:8080/"
    },
    "executionInfo": {
     "elapsed": 1052,
     "status": "ok",
     "timestamp": 1690180581584,
     "user": {
      "displayName": "Rajashree Ghule",
      "userId": "14177409402572967134"
     },
     "user_tz": -330
    },
    "id": "Lh5iFwih1Izb",
    "outputId": "593a24a2-ce6b-440b-b1e4-20b817fb2469"
   },
   "outputs": [],
   "source": [
    "import requests\n",
    "import pandas as pd\n",
    "import geopandas as gpd\n",
    "import folium\n",
    "\n",
    "# Set your OpenWeatherMap API key\n",
    "api_key = 'fb365aa6104829b44455572365ff3b4e'\n",
    "\n",
    "# Specify the locations for which you want to retrieve weather data\n",
    "locations = ['London', 'Paris', 'New York']\n",
    "\n",
    "weather_df = pd.DataFrame()\n",
    "\n",
    "# Retrieve weather data for each location\n",
    "for location in locations:\n",
    "    # Construct the API URL\n",
    "    api_url = f'http://api.openweathermap.org/data/2.5/weather?q={location}&appid={api_key}'\n",
    "\n",
    "    # Send a GET request to the API\n",
    "    response = requests.get(api_url)\n",
    "    weather_data = response.json()\n",
    "\n",
    "    # Extract relevant weather attributes\n",
    "    temperature = weather_data['main']['temp']\n",
    "    humidity = weather_data['main']['humidity']\n",
    "    wind_speed = weather_data['wind']['speed']\n",
    "    latitude = weather_data['coord']['lat']\n",
    "    longitude = weather_data['coord']['lon']\n",
    "\n",
    "    # Create a DataFrame for the location's weather data\n",
    "    location_df = pd.DataFrame({\n",
    "        'Location': [location],\n",
    "        'Temperature': [temperature],\n",
    "        'Humidity': [humidity],\n",
    "        'Wind Speed': [wind_speed],\n",
    "        'Latitude': [latitude],\n",
    "        'Longitude': [longitude]\n",
    "    })\n",
    "\n",
    "    # Append the location's weather data to the main DataFrame\n",
    "    weather_df = weather_df.append(location_df, ignore_index=True)\n"
   ]
  },
  {
   "cell_type": "code",
   "execution_count": 21,
   "metadata": {
    "colab": {
     "base_uri": "https://localhost:8080/",
     "height": 143
    },
    "executionInfo": {
     "elapsed": 376,
     "status": "ok",
     "timestamp": 1690180588011,
     "user": {
      "displayName": "Rajashree Ghule",
      "userId": "14177409402572967134"
     },
     "user_tz": -330
    },
    "id": "vEoEh8FX65fR",
    "outputId": "48c4ea2a-e59e-4bc7-97ac-d141041a9469"
   },
   "outputs": [
    {
     "data": {
      "text/html": [
       "<div>\n",
       "<style scoped>\n",
       "    .dataframe tbody tr th:only-of-type {\n",
       "        vertical-align: middle;\n",
       "    }\n",
       "\n",
       "    .dataframe tbody tr th {\n",
       "        vertical-align: top;\n",
       "    }\n",
       "\n",
       "    .dataframe thead th {\n",
       "        text-align: right;\n",
       "    }\n",
       "</style>\n",
       "<table border=\"1\" class=\"dataframe\">\n",
       "  <thead>\n",
       "    <tr style=\"text-align: right;\">\n",
       "      <th></th>\n",
       "      <th>Location</th>\n",
       "      <th>Temperature</th>\n",
       "      <th>Humidity</th>\n",
       "      <th>Wind Speed</th>\n",
       "      <th>Latitude</th>\n",
       "      <th>Longitude</th>\n",
       "    </tr>\n",
       "  </thead>\n",
       "  <tbody>\n",
       "    <tr>\n",
       "      <th>0</th>\n",
       "      <td>London</td>\n",
       "      <td>288.41</td>\n",
       "      <td>94</td>\n",
       "      <td>4.12</td>\n",
       "      <td>51.5085</td>\n",
       "      <td>-0.1257</td>\n",
       "    </tr>\n",
       "    <tr>\n",
       "      <th>1</th>\n",
       "      <td>Paris</td>\n",
       "      <td>290.75</td>\n",
       "      <td>81</td>\n",
       "      <td>3.09</td>\n",
       "      <td>48.8534</td>\n",
       "      <td>2.3488</td>\n",
       "    </tr>\n",
       "    <tr>\n",
       "      <th>2</th>\n",
       "      <td>New York</td>\n",
       "      <td>296.26</td>\n",
       "      <td>68</td>\n",
       "      <td>4.12</td>\n",
       "      <td>40.7143</td>\n",
       "      <td>-74.0060</td>\n",
       "    </tr>\n",
       "  </tbody>\n",
       "</table>\n",
       "</div>"
      ],
      "text/plain": [
       "   Location  Temperature  Humidity  Wind Speed  Latitude  Longitude\n",
       "0    London       288.41        94        4.12   51.5085    -0.1257\n",
       "1     Paris       290.75        81        3.09   48.8534     2.3488\n",
       "2  New York       296.26        68        4.12   40.7143   -74.0060"
      ]
     },
     "execution_count": 21,
     "metadata": {},
     "output_type": "execute_result"
    }
   ],
   "source": [
    "weather_df"
   ]
  },
  {
   "cell_type": "code",
   "execution_count": 22,
   "metadata": {
    "colab": {
     "base_uri": "https://localhost:8080/",
     "height": 1000
    },
    "executionInfo": {
     "elapsed": 1084,
     "status": "ok",
     "timestamp": 1690180591939,
     "user": {
      "displayName": "Rajashree Ghule",
      "userId": "14177409402572967134"
     },
     "user_tz": -330
    },
    "id": "lDa-FgAO2fe6",
    "outputId": "48c7a075-80bc-434a-cf5d-0f72f0eb1ab4"
   },
   "outputs": [
    {
     "name": "stderr",
     "output_type": "stream",
     "text": [
      "<ipython-input-22-c9bd718791be>:2: FutureWarning: The geopandas.dataset module is deprecated and will be removed in GeoPandas 1.0. You can get the original 'naturalearth_cities' data from https://www.naturalearthdata.com/downloads/110m-cultural-vectors/.\n",
      "  world_map = gpd.read_file(gpd.datasets.get_path('naturalearth_cities'))\n"
     ]
    },
    {
     "data": {
      "text/html": [
       "<div style=\"width:100%;\"><div style=\"position:relative;width:100%;height:0;padding-bottom:60%;\"><span style=\"color:#565656\">Make this Notebook Trusted to load map: File -> Trust Notebook</span><iframe srcdoc=\"&lt;!DOCTYPE html&gt;\n",
       "&lt;html&gt;\n",
       "&lt;head&gt;\n",
       "    \n",
       "    &lt;meta http-equiv=&quot;content-type&quot; content=&quot;text/html; charset=UTF-8&quot; /&gt;\n",
       "    \n",
       "        &lt;script&gt;\n",
       "            L_NO_TOUCH = false;\n",
       "            L_DISABLE_3D = false;\n",
       "        &lt;/script&gt;\n",
       "    \n",
       "    &lt;style&gt;html, body {width: 100%;height: 100%;margin: 0;padding: 0;}&lt;/style&gt;\n",
       "    &lt;style&gt;#map {position:absolute;top:0;bottom:0;right:0;left:0;}&lt;/style&gt;\n",
       "    &lt;script src=&quot;https://cdn.jsdelivr.net/npm/leaflet@1.9.3/dist/leaflet.js&quot;&gt;&lt;/script&gt;\n",
       "    &lt;script src=&quot;https://code.jquery.com/jquery-1.12.4.min.js&quot;&gt;&lt;/script&gt;\n",
       "    &lt;script src=&quot;https://cdn.jsdelivr.net/npm/bootstrap@5.2.2/dist/js/bootstrap.bundle.min.js&quot;&gt;&lt;/script&gt;\n",
       "    &lt;script src=&quot;https://cdnjs.cloudflare.com/ajax/libs/Leaflet.awesome-markers/2.0.2/leaflet.awesome-markers.js&quot;&gt;&lt;/script&gt;\n",
       "    &lt;link rel=&quot;stylesheet&quot; href=&quot;https://cdn.jsdelivr.net/npm/leaflet@1.9.3/dist/leaflet.css&quot;/&gt;\n",
       "    &lt;link rel=&quot;stylesheet&quot; href=&quot;https://cdn.jsdelivr.net/npm/bootstrap@5.2.2/dist/css/bootstrap.min.css&quot;/&gt;\n",
       "    &lt;link rel=&quot;stylesheet&quot; href=&quot;https://netdna.bootstrapcdn.com/bootstrap/3.0.0/css/bootstrap.min.css&quot;/&gt;\n",
       "    &lt;link rel=&quot;stylesheet&quot; href=&quot;https://cdn.jsdelivr.net/npm/@fortawesome/fontawesome-free@6.2.0/css/all.min.css&quot;/&gt;\n",
       "    &lt;link rel=&quot;stylesheet&quot; href=&quot;https://cdnjs.cloudflare.com/ajax/libs/Leaflet.awesome-markers/2.0.2/leaflet.awesome-markers.css&quot;/&gt;\n",
       "    &lt;link rel=&quot;stylesheet&quot; href=&quot;https://cdn.jsdelivr.net/gh/python-visualization/folium/folium/templates/leaflet.awesome.rotate.min.css&quot;/&gt;\n",
       "    \n",
       "            &lt;meta name=&quot;viewport&quot; content=&quot;width=device-width,\n",
       "                initial-scale=1.0, maximum-scale=1.0, user-scalable=no&quot; /&gt;\n",
       "            &lt;style&gt;\n",
       "                #map_b5a6c5570315f3dea9a5ca3fd2d2053d {\n",
       "                    position: relative;\n",
       "                    width: 100.0%;\n",
       "                    height: 100.0%;\n",
       "                    left: 0.0%;\n",
       "                    top: 0.0%;\n",
       "                }\n",
       "                .leaflet-container { font-size: 1rem; }\n",
       "            &lt;/style&gt;\n",
       "        \n",
       "&lt;/head&gt;\n",
       "&lt;body&gt;\n",
       "    \n",
       "    \n",
       "            &lt;div class=&quot;folium-map&quot; id=&quot;map_b5a6c5570315f3dea9a5ca3fd2d2053d&quot; &gt;&lt;/div&gt;\n",
       "        \n",
       "&lt;/body&gt;\n",
       "&lt;script&gt;\n",
       "    \n",
       "    \n",
       "            var map_b5a6c5570315f3dea9a5ca3fd2d2053d = L.map(\n",
       "                &quot;map_b5a6c5570315f3dea9a5ca3fd2d2053d&quot;,\n",
       "                {\n",
       "                    center: [47.0254, -23.927633333333333],\n",
       "                    crs: L.CRS.EPSG3857,\n",
       "                    zoom: 2,\n",
       "                    zoomControl: true,\n",
       "                    preferCanvas: false,\n",
       "                }\n",
       "            );\n",
       "\n",
       "            \n",
       "\n",
       "        \n",
       "    \n",
       "            var tile_layer_51bf8bced7b7452a342d8ad714002b4e = L.tileLayer(\n",
       "                &quot;https://{s}.tile.openstreetmap.org/{z}/{x}/{y}.png&quot;,\n",
       "                {&quot;attribution&quot;: &quot;Data by \\u0026copy; \\u003ca target=\\&quot;_blank\\&quot; href=\\&quot;http://openstreetmap.org\\&quot;\\u003eOpenStreetMap\\u003c/a\\u003e, under \\u003ca target=\\&quot;_blank\\&quot; href=\\&quot;http://www.openstreetmap.org/copyright\\&quot;\\u003eODbL\\u003c/a\\u003e.&quot;, &quot;detectRetina&quot;: false, &quot;maxNativeZoom&quot;: 18, &quot;maxZoom&quot;: 18, &quot;minZoom&quot;: 0, &quot;noWrap&quot;: false, &quot;opacity&quot;: 1, &quot;subdomains&quot;: &quot;abc&quot;, &quot;tms&quot;: false}\n",
       "            ).addTo(map_b5a6c5570315f3dea9a5ca3fd2d2053d);\n",
       "        \n",
       "    \n",
       "            var marker_24e991020eb5aaf03403e857ccff3879 = L.marker(\n",
       "                [40.7143, -74.006],\n",
       "                {}\n",
       "            ).addTo(map_b5a6c5570315f3dea9a5ca3fd2d2053d);\n",
       "        \n",
       "    \n",
       "            var icon_90d88f2227f047e2504787a36369c656 = L.AwesomeMarkers.icon(\n",
       "                {&quot;extraClasses&quot;: &quot;fa-rotate-0&quot;, &quot;icon&quot;: &quot;cloud&quot;, &quot;iconColor&quot;: &quot;white&quot;, &quot;markerColor&quot;: &quot;red&quot;, &quot;prefix&quot;: &quot;glyphicon&quot;}\n",
       "            );\n",
       "            marker_24e991020eb5aaf03403e857ccff3879.setIcon(icon_90d88f2227f047e2504787a36369c656);\n",
       "        \n",
       "    \n",
       "        var popup_50b58d33e3807b2ee4468d3a9082c8d3 = L.popup({&quot;maxWidth&quot;: &quot;100%&quot;});\n",
       "\n",
       "        \n",
       "            \n",
       "                var html_76e096fcc1d7744a8d51bc4ab730260b = $(`&lt;div id=&quot;html_76e096fcc1d7744a8d51bc4ab730260b&quot; style=&quot;width: 100.0%; height: 100.0%;&quot;&gt;Temperature: 296.26 K&lt;/div&gt;`)[0];\n",
       "                popup_50b58d33e3807b2ee4468d3a9082c8d3.setContent(html_76e096fcc1d7744a8d51bc4ab730260b);\n",
       "            \n",
       "        \n",
       "\n",
       "        marker_24e991020eb5aaf03403e857ccff3879.bindPopup(popup_50b58d33e3807b2ee4468d3a9082c8d3)\n",
       "        ;\n",
       "\n",
       "        \n",
       "    \n",
       "    \n",
       "            var marker_e6547870dbfb9f6d9596d9df47e56ecd = L.marker(\n",
       "                [51.5085, -0.1257],\n",
       "                {}\n",
       "            ).addTo(map_b5a6c5570315f3dea9a5ca3fd2d2053d);\n",
       "        \n",
       "    \n",
       "            var icon_4f5b101c94ddbc529d8022466569085a = L.AwesomeMarkers.icon(\n",
       "                {&quot;extraClasses&quot;: &quot;fa-rotate-0&quot;, &quot;icon&quot;: &quot;cloud&quot;, &quot;iconColor&quot;: &quot;white&quot;, &quot;markerColor&quot;: &quot;red&quot;, &quot;prefix&quot;: &quot;glyphicon&quot;}\n",
       "            );\n",
       "            marker_e6547870dbfb9f6d9596d9df47e56ecd.setIcon(icon_4f5b101c94ddbc529d8022466569085a);\n",
       "        \n",
       "    \n",
       "        var popup_8adc5fc0969b4a0b0dc2b5f36fda353e = L.popup({&quot;maxWidth&quot;: &quot;100%&quot;});\n",
       "\n",
       "        \n",
       "            \n",
       "                var html_dcc660bf9bb328a7241cee5c3b3c6edb = $(`&lt;div id=&quot;html_dcc660bf9bb328a7241cee5c3b3c6edb&quot; style=&quot;width: 100.0%; height: 100.0%;&quot;&gt;Temperature: 288.41 K&lt;/div&gt;`)[0];\n",
       "                popup_8adc5fc0969b4a0b0dc2b5f36fda353e.setContent(html_dcc660bf9bb328a7241cee5c3b3c6edb);\n",
       "            \n",
       "        \n",
       "\n",
       "        marker_e6547870dbfb9f6d9596d9df47e56ecd.bindPopup(popup_8adc5fc0969b4a0b0dc2b5f36fda353e)\n",
       "        ;\n",
       "\n",
       "        \n",
       "    \n",
       "    \n",
       "            var marker_4ef822f6513da3955263bcec790e7e40 = L.marker(\n",
       "                [48.8534, 2.3488],\n",
       "                {}\n",
       "            ).addTo(map_b5a6c5570315f3dea9a5ca3fd2d2053d);\n",
       "        \n",
       "    \n",
       "            var icon_73af8a5c5bd1433153ca7c3eb9479030 = L.AwesomeMarkers.icon(\n",
       "                {&quot;extraClasses&quot;: &quot;fa-rotate-0&quot;, &quot;icon&quot;: &quot;cloud&quot;, &quot;iconColor&quot;: &quot;white&quot;, &quot;markerColor&quot;: &quot;red&quot;, &quot;prefix&quot;: &quot;glyphicon&quot;}\n",
       "            );\n",
       "            marker_4ef822f6513da3955263bcec790e7e40.setIcon(icon_73af8a5c5bd1433153ca7c3eb9479030);\n",
       "        \n",
       "    \n",
       "        var popup_25ba32521e49adb8842da690e1a360e3 = L.popup({&quot;maxWidth&quot;: &quot;100%&quot;});\n",
       "\n",
       "        \n",
       "            \n",
       "                var html_49b01b0a23fd7cf1614031801993a490 = $(`&lt;div id=&quot;html_49b01b0a23fd7cf1614031801993a490&quot; style=&quot;width: 100.0%; height: 100.0%;&quot;&gt;Temperature: 290.75 K&lt;/div&gt;`)[0];\n",
       "                popup_25ba32521e49adb8842da690e1a360e3.setContent(html_49b01b0a23fd7cf1614031801993a490);\n",
       "            \n",
       "        \n",
       "\n",
       "        marker_4ef822f6513da3955263bcec790e7e40.bindPopup(popup_25ba32521e49adb8842da690e1a360e3)\n",
       "        ;\n",
       "\n",
       "        \n",
       "    \n",
       "&lt;/script&gt;\n",
       "&lt;/html&gt;\" style=\"position:absolute;width:100%;height:100%;left:0;top:0;border:none !important;\" allowfullscreen webkitallowfullscreen mozallowfullscreen></iframe></div></div>"
      ],
      "text/plain": [
       "<folium.folium.Map at 0x293573ce490>"
      ]
     },
     "execution_count": 22,
     "metadata": {},
     "output_type": "execute_result"
    }
   ],
   "source": [
    "\n",
    "# Load a world map shapefile using geopandas\n",
    "world_map = gpd.read_file(gpd.datasets.get_path('naturalearth_cities'))\n",
    "\n",
    "# Rename the column used for merging in the world map DataFrame\n",
    "world_map.rename(columns={'name': 'Location'}, inplace=True)\n",
    "\n",
    "# Merge the weather data with the world map based on location\n",
    "weather_map = world_map.merge(weather_df, on='Location')\n",
    "\n",
    "# Create a folium map centered around the mean latitude and longitude of all locations\n",
    "map_center = [weather_df['Latitude'].mean(), weather_df['Longitude'].mean()]\n",
    "weather_map_folium = folium.Map(location=map_center, zoom_start=2)\n",
    "\n",
    "# Add weather markers to the folium map\n",
    "for index, row in weather_map.iterrows():\n",
    "    location = [row['Latitude'], row['Longitude']]\n",
    "    temperature = row['Temperature']\n",
    "    marker_text = f'Temperature: {temperature} K'\n",
    "    folium.Marker(location, popup=marker_text, icon=folium.Icon(icon='cloud', color='red')).add_to(weather_map_folium)\n",
    "\n",
    "# display the folium map\n",
    "weather_map_folium\n"
   ]
  },
  {
   "cell_type": "code",
   "execution_count": 23,
   "metadata": {
    "colab": {
     "base_uri": "https://localhost:8080/"
    },
    "executionInfo": {
     "elapsed": 389,
     "status": "ok",
     "timestamp": 1689180301259,
     "user": {
      "displayName": "DEVKAR ANITA",
      "userId": "01640953838805468642"
     },
     "user_tz": -330
    },
    "id": "v2nVfNeC7G-m",
    "outputId": "4ed7a489-3451-44f2-9bae-0ca42b973c92"
   },
   "outputs": [
    {
     "data": {
      "text/plain": [
       "folium.folium.Map"
      ]
     },
     "execution_count": 23,
     "metadata": {},
     "output_type": "execute_result"
    }
   ],
   "source": [
    "type(weather_map_folium)"
   ]
  },
  {
   "cell_type": "code",
   "execution_count": null,
   "metadata": {},
   "outputs": [],
   "source": []
  }
 ],
 "metadata": {
  "colab": {
   "provenance": []
  },
  "kernelspec": {
   "display_name": "Python 3",
   "language": "python",
   "name": "python3"
  },
  "language_info": {
   "codemirror_mode": {
    "name": "ipython",
    "version": 3
   },
   "file_extension": ".py",
   "mimetype": "text/x-python",
   "name": "python",
   "nbconvert_exporter": "python",
   "pygments_lexer": "ipython3",
   "version": "3.8.8"
  }
 },
 "nbformat": 4,
 "nbformat_minor": 1
}
