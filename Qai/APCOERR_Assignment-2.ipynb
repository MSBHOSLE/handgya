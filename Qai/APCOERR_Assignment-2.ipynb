{
 "cells": [
  {
   "cell_type": "code",
   "execution_count": 1,
   "id": "ca502185-24af-493b-b442-bcfe73883801",
   "metadata": {},
   "outputs": [],
   "source": [
    "from qiskit import *\n",
    "from IPython.display import clear_output\n",
    "from qiskit.providers.aer.noise import NoiseModel\n",
    "from qiskit.providers.aer.noise.errors import pauli_error, depolarizing_error\n",
    "from qiskit.providers.aer.noise import thermal_relaxation_error"
   ]
  },
  {
   "cell_type": "code",
   "execution_count": 2,
   "id": "f585bb0e-f3bd-40cf-bb2f-1bbd6fa3cb28",
   "metadata": {},
   "outputs": [],
   "source": [
    "def make_noise(p_cx=0,T1T2Tm=(1,1,0)):\n",
    "    '''\n",
    "        Returns a noise model specified by the inputs\n",
    "        - p_cx: probability of depolarizing noise on each\n",
    "                qubit during a cx\n",
    "        - T1T2Tm: tuple with (T1,T2,Tm), the T1 and T2 times\n",
    "              and the measurement time\n",
    "    '''\n",
    "    \n",
    "    noise_model = NoiseModel()\n",
    "    \n",
    "    # depolarizing error for cx\n",
    "    error_cx = depolarizing_error(p_cx, 1)\n",
    "    error_cx = error_cx.tensor(error_cx)\n",
    "    noise_model.add_all_qubit_quantum_error(error_cx, [\"cx\"])\n",
    "    \n",
    "    # thermal error for measurement\n",
    "    (T1,T2,Tm) = T1T2Tm\n",
    "    error_meas = thermal_relaxation_error(T1, T2, Tm)\n",
    "    noise_model.add_all_qubit_quantum_error(error_meas, \"measure\")\n",
    "        \n",
    "    return noise_model"
   ]
  },
  {
   "cell_type": "code",
   "execution_count": 3,
   "id": "243ec73a-91a9-42c1-be56-d19309614fe4",
   "metadata": {},
   "outputs": [
    {
     "data": {
      "image/png": "[encoded data removed]",
      "text/plain": [
       "<Figure size 331.999x225.75 with 1 Axes>"
      ]
     },
     "execution_count": 3,
     "metadata": {},
     "output_type": "execute_result"
    }
   ],
   "source": [
    "qc = QuantumCircuit(4)\n",
    "qc.x(0)\n",
    "qc.cx(1,2)\n",
    "qc.measure_all()\n",
    "qc.draw(output='mpl', scale=0.5)"
   ]
  },
  {
   "cell_type": "code",
   "execution_count": 4,
   "id": "b027f869-c7b8-4810-81d9-0c874d6a7c9f",
   "metadata": {},
   "outputs": [
    {
     "data": {
      "text/plain": [
       "{'0001': 8192}"
      ]
     },
     "execution_count": 4,
     "metadata": {},
     "output_type": "execute_result"
    }
   ],
   "source": [
    "execute( qc, Aer.get_backend('qasm_simulator'), shots=8192).result().get_counts()\n"
   ]
  },
  {
   "cell_type": "code",
   "execution_count": 5,
   "id": "fa0c3d53-fb01-4d19-a83a-5a2d7c23cd52",
   "metadata": {},
   "outputs": [
    {
     "data": {
      "text/plain": [
       "{'0111': 22, '0011': 383, '0101': 381, '0001': 7406}"
      ]
     },
     "execution_count": 5,
     "metadata": {},
     "output_type": "execute_result"
    }
   ],
   "source": [
    "noise_model = make_noise(p_cx=0.1)\n",
    "execute( qc, Aer.get_backend('qasm_simulator'), noise_model=noise_model, shots=8192).result().get_counts()"
   ]
  },
  {
   "cell_type": "code",
   "execution_count": 6,
   "id": "116f29bd-5fe0-4a9a-a776-ed1fdae25d42",
   "metadata": {},
   "outputs": [
    {
     "name": "stdout",
     "output_type": "stream",
     "text": [
      "Tm = 0.01 , counts = {'0000': 68, '0001': 8124}\n",
      "Tm = 0.1 , counts = {'0000': 747, '0001': 7445}\n",
      "Tm = 1 , counts = {'0001': 3044, '0000': 5148}\n",
      "Tm = 10 , counts = {'0000': 8192}\n"
     ]
    }
   ],
   "source": [
    "for Tm in (0.01,0.1,1,10):\n",
    "    noise_model = make_noise(p_cx=0, T1T2Tm=(1,1,Tm))\n",
    "    counts = execute( qc, Aer.get_backend('qasm_simulator'), noise_model=noise_model, shots=8192).result().get_counts()\n",
    "    print('Tm =',Tm,', counts =',counts)\n"
   ]
  },
  {
   "cell_type": "code",
   "execution_count": 7,
   "id": "07ad023c-72ef-403f-9f46-c57938243800",
   "metadata": {},
   "outputs": [
    {
     "name": "stderr",
     "output_type": "stream",
     "text": [
      "/tmp/ipykernel_5079/2472739805.py:1: DeprecationWarning: The qiskit.ignis package is deprecated and has been supersceded by the qiskit-experiments project. Refer to the migration guide: https://github.com/Qiskit/qiskit-ignis#migration-guide on how to migrate to the new project.\n",
      "  from qiskit.ignis.verification.topological_codes import RepetitionCode\n"
     ]
    }
   ],
   "source": [
    "from qiskit.ignis.verification.topological_codes import RepetitionCode\n",
    "from qiskit.ignis.verification.topological_codes import GraphDecoder\n",
    "from qiskit.ignis.verification.topological_codes import lookuptable_decoding, postselection_decoding"
   ]
  },
  {
   "cell_type": "code",
   "execution_count": 8,
   "id": "f805de0d-79cd-4888-b429-2ad9f756fbd0",
   "metadata": {},
   "outputs": [],
   "source": [
    "d = 4\n",
    "T = 1\n",
    "code = RepetitionCode(d,T)"
   ]
  },
  {
   "cell_type": "code",
   "execution_count": 9,
   "id": "bf96bee5-7695-4c4b-b043-aa6ab1c49693",
   "metadata": {},
   "outputs": [
    {
     "data": {
      "text/plain": [
       "{'0': <qiskit.circuit.quantumcircuit.QuantumCircuit at 0x7f2ad2f2cc10>,\n",
       " '1': <qiskit.circuit.quantumcircuit.QuantumCircuit at 0x7f2ad2f2cc70>}"
      ]
     },
     "execution_count": 9,
     "metadata": {},
     "output_type": "execute_result"
    }
   ],
   "source": [
    "code.circuit\n"
   ]
  },
  {
   "cell_type": "code",
   "execution_count": 10,
   "id": "4d07f419-feee-43ff-95e5-c82b69fc56ca",
   "metadata": {},
   "outputs": [
    {
     "data": {
      "text/html": [
       "<pre style=\"word-wrap: normal;white-space: pre;background: #fff0;line-height: 1.1;font-family: &quot;Courier New&quot;,Courier,monospace\">                    ┌───┐          ┌───┐             ┌─┐               \n",
       "      link_qubit_0: ┤ X ├──────────┤ X ├─────────────┤M├───────────────\n",
       "                    └─┬─┘┌───┐     └─┬─┘┌───┐        └╥┘┌─┐            \n",
       "      link_qubit_1: ──┼──┤ X ├───────┼──┤ X ├─────────╫─┤M├────────────\n",
       "                      │  └─┬─┘┌───┐  │  └─┬─┘┌───┐    ║ └╥┘┌─┐         \n",
       "      link_qubit_2: ──┼────┼──┤ X ├──┼────┼──┤ X ├────╫──╫─┤M├─────────\n",
       "                      │    │  └─┬─┘  │    │  └─┬─┘┌─┐ ║  ║ └╥┘         \n",
       "      code_qubit_0: ──■────┼────┼────┼────┼────┼──┤M├─╫──╫──╫──────────\n",
       "                           │    │    │    │    │  └╥┘ ║  ║  ║ ┌─┐      \n",
       "      code_qubit_1: ───────■────┼────■────┼────┼───╫──╫──╫──╫─┤M├──────\n",
       "                                │         │    │   ║  ║  ║  ║ └╥┘┌─┐   \n",
       "      code_qubit_2: ────────────■─────────■────┼───╫──╫──╫──╫──╫─┤M├───\n",
       "                                               │   ║  ║  ║  ║  ║ └╥┘┌─┐\n",
       "      code_qubit_3: ───────────────────────────■───╫──╫──╫──╫──╫──╫─┤M├\n",
       "                                                   ║  ║  ║  ║  ║  ║ └╥┘\n",
       "round_0_link_bit: 3/═══════════════════════════════╬══╩══╩══╩══╬══╬══╬═\n",
       "                                                   ║  0  1  2  ║  ║  ║ \n",
       "        code_bit: 4/═══════════════════════════════╩═══════════╩══╩══╩═\n",
       "                                                   0           1  2  3 </pre>"
      ],
      "text/plain": [
       "                    ┌───┐          ┌───┐             ┌─┐               \n",
       "      link_qubit_0: ┤ X ├──────────┤ X ├─────────────┤M├───────────────\n",
       "                    └─┬─┘┌───┐     └─┬─┘┌───┐        └╥┘┌─┐            \n",
       "      link_qubit_1: ──┼──┤ X ├───────┼──┤ X ├─────────╫─┤M├────────────\n",
       "                      │  └─┬─┘┌───┐  │  └─┬─┘┌───┐    ║ └╥┘┌─┐         \n",
       "      link_qubit_2: ──┼────┼──┤ X ├──┼────┼──┤ X ├────╫──╫─┤M├─────────\n",
       "                      │    │  └─┬─┘  │    │  └─┬─┘┌─┐ ║  ║ └╥┘         \n",
       "      code_qubit_0: ──■────┼────┼────┼────┼────┼──┤M├─╫──╫──╫──────────\n",
       "                           │    │    │    │    │  └╥┘ ║  ║  ║ ┌─┐      \n",
       "      code_qubit_1: ───────■────┼────■────┼────┼───╫──╫──╫──╫─┤M├──────\n",
       "                                │         │    │   ║  ║  ║  ║ └╥┘┌─┐   \n",
       "      code_qubit_2: ────────────■─────────■────┼───╫──╫──╫──╫──╫─┤M├───\n",
       "                                               │   ║  ║  ║  ║  ║ └╥┘┌─┐\n",
       "      code_qubit_3: ───────────────────────────■───╫──╫──╫──╫──╫──╫─┤M├\n",
       "                                                   ║  ║  ║  ║  ║  ║ └╥┘\n",
       "round_0_link_bit: 3/═══════════════════════════════╬══╩══╩══╩══╬══╬══╬═\n",
       "                                                   ║  0  1  2  ║  ║  ║ \n",
       "        code_bit: 4/═══════════════════════════════╩═══════════╩══╩══╩═\n",
       "                                                   0           1  2  3 "
      ]
     },
     "execution_count": 10,
     "metadata": {},
     "output_type": "execute_result"
    }
   ],
   "source": [
    "code.circuit['0'].draw(output='text')\n"
   ]
  },
  {
   "cell_type": "code",
   "execution_count": 11,
   "id": "98fcb395-1c7b-4c65-8197-1fdbf11217c9",
   "metadata": {},
   "outputs": [
    {
     "data": {
      "text/html": [
       "<pre style=\"word-wrap: normal;white-space: pre;background: #fff0;line-height: 1.1;font-family: &quot;Courier New&quot;,Courier,monospace\">                         ┌───┐          ┌───┐             ┌─┐               \n",
       "      link_qubit_0: ─────┤ X ├──────────┤ X ├─────────────┤M├───────────────\n",
       "                         └─┬─┘┌───┐     └─┬─┘┌───┐        └╥┘┌─┐            \n",
       "      link_qubit_1: ───────┼──┤ X ├───────┼──┤ X ├─────────╫─┤M├────────────\n",
       "                           │  └─┬─┘┌───┐  │  └─┬─┘┌───┐    ║ └╥┘┌─┐         \n",
       "      link_qubit_2: ───────┼────┼──┤ X ├──┼────┼──┤ X ├────╫──╫─┤M├─────────\n",
       "                    ┌───┐  │    │  └─┬─┘  │    │  └─┬─┘┌─┐ ║  ║ └╥┘         \n",
       "      code_qubit_0: ┤ X ├──■────┼────┼────┼────┼────┼──┤M├─╫──╫──╫──────────\n",
       "                    ├───┤       │    │    │    │    │  └╥┘ ║  ║  ║ ┌─┐      \n",
       "      code_qubit_1: ┤ X ├───────■────┼────■────┼────┼───╫──╫──╫──╫─┤M├──────\n",
       "                    ├───┤            │         │    │   ║  ║  ║  ║ └╥┘┌─┐   \n",
       "      code_qubit_2: ┤ X ├────────────■─────────■────┼───╫──╫──╫──╫──╫─┤M├───\n",
       "                    ├───┤                           │   ║  ║  ║  ║  ║ └╥┘┌─┐\n",
       "      code_qubit_3: ┤ X ├───────────────────────────■───╫──╫──╫──╫──╫──╫─┤M├\n",
       "                    └───┘                               ║  ║  ║  ║  ║  ║ └╥┘\n",
       "round_0_link_bit: 3/════════════════════════════════════╬══╩══╩══╩══╬══╬══╬═\n",
       "                                                        ║  0  1  2  ║  ║  ║ \n",
       "        code_bit: 4/════════════════════════════════════╩═══════════╩══╩══╩═\n",
       "                                                        0           1  2  3 </pre>"
      ],
      "text/plain": [
       "                         ┌───┐          ┌───┐             ┌─┐               \n",
       "      link_qubit_0: ─────┤ X ├──────────┤ X ├─────────────┤M├───────────────\n",
       "                         └─┬─┘┌───┐     └─┬─┘┌───┐        └╥┘┌─┐            \n",
       "      link_qubit_1: ───────┼──┤ X ├───────┼──┤ X ├─────────╫─┤M├────────────\n",
       "                           │  └─┬─┘┌───┐  │  └─┬─┘┌───┐    ║ └╥┘┌─┐         \n",
       "      link_qubit_2: ───────┼────┼──┤ X ├──┼────┼──┤ X ├────╫──╫─┤M├─────────\n",
       "                    ┌───┐  │    │  └─┬─┘  │    │  └─┬─┘┌─┐ ║  ║ └╥┘         \n",
       "      code_qubit_0: ┤ X ├──■────┼────┼────┼────┼────┼──┤M├─╫──╫──╫──────────\n",
       "                    ├───┤       │    │    │    │    │  └╥┘ ║  ║  ║ ┌─┐      \n",
       "      code_qubit_1: ┤ X ├───────■────┼────■────┼────┼───╫──╫──╫──╫─┤M├──────\n",
       "                    ├───┤            │         │    │   ║  ║  ║  ║ └╥┘┌─┐   \n",
       "      code_qubit_2: ┤ X ├────────────■─────────■────┼───╫──╫──╫──╫──╫─┤M├───\n",
       "                    ├───┤                           │   ║  ║  ║  ║  ║ └╥┘┌─┐\n",
       "      code_qubit_3: ┤ X ├───────────────────────────■───╫──╫──╫──╫──╫──╫─┤M├\n",
       "                    └───┘                               ║  ║  ║  ║  ║  ║ └╥┘\n",
       "round_0_link_bit: 3/════════════════════════════════════╬══╩══╩══╩══╬══╬══╬═\n",
       "                                                        ║  0  1  2  ║  ║  ║ \n",
       "        code_bit: 4/════════════════════════════════════╩═══════════╩══╩══╩═\n",
       "                                                        0           1  2  3 "
      ]
     },
     "execution_count": 11,
     "metadata": {},
     "output_type": "execute_result"
    }
   ],
   "source": [
    "code.circuit['1'].draw(output='text')\n"
   ]
  },
  {
   "cell_type": "code",
   "execution_count": null,
   "id": "0ab889d6-0b99-400e-b20a-74338cbbcf1e",
   "metadata": {},
   "outputs": [],
   "source": []
  },
  {
   "cell_type": "code",
   "execution_count": null,
   "id": "69e98feb-0164-4516-b43b-c4cef3517082",
   "metadata": {},
   "outputs": [],
   "source": []
  },
  {
   "cell_type": "code",
   "execution_count": null,
   "id": "b4e42b8d-07de-480c-abab-e417a452c04a",
   "metadata": {},
   "outputs": [],
   "source": []
  }
 ],
 "metadata": {
  "kernelspec": {
   "display_name": "Python 3 (ipykernel)",
   "language": "python",
   "name": "python3"
  },
  "language_info": {
   "codemirror_mode": {
    "name": "ipython",
    "version": 3
   },
   "file_extension": ".py",
   "mimetype": "text/x-python",
   "name": "python",
   "nbconvert_exporter": "python",
   "pygments_lexer": "ipython3",
   "version": "3.9.12"
  }
 },
 "nbformat": 4,
 "nbformat_minor": 5
}
