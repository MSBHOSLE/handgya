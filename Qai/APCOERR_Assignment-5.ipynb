{
 "cells": [
  {
   "cell_type": "markdown",
   "id": "73aa6c57-9047-403c-acff-48ed26008fff",
   "metadata": {},
   "source": [
    "# Assignment 05"
   ]
  },
  {
   "cell_type": "markdown",
   "id": "be75afa0-6abc-46a3-bb6b-7e7c7ea5746d",
   "metadata": {},
   "source": [
    "Implementation of 5 qubit Quantum  Fourier Transformation\n",
    "<ol>\n",
    "<li> In this assignment we will be creating a quantum circuit with 5 qubits reqisters along with 5 bit classical register</li>\n",
    "<li> Fourier transformer help us to move/ convert across the domain like time to frequency or frequency to time</li>\n",
    "<li> Quantum fourier transform is one who will help in transition of classical information to quantum and inverse during quantum to classical</li>\n",
    "</ol>"
   ]
  },
  {
   "cell_type": "markdown",
   "id": "236d4f48-2b34-487c-96f5-7a624efe8675",
   "metadata": {},
   "source": [
    "To implement QFT here we go !!!!!!!!!!!!!!!!!!!!!!!!!!!!!!!!!"
   ]
  },
  {
   "cell_type": "code",
   "execution_count": 25,
   "id": "6eb0645c-da74-441f-814a-2366704464ec",
   "metadata": {},
   "outputs": [
    {
     "name": "stdout",
     "output_type": "stream",
     "text": [
      "     ┌───┐┌──────┐┌─┐            \n",
      "q_0: ┤ X ├┤0     ├┤M├────────────\n",
      "     └───┘│      │└╥┘┌─┐         \n",
      "q_1: ─────┤1     ├─╫─┤M├─────────\n",
      "     ┌───┐│      │ ║ └╥┘┌─┐      \n",
      "q_2: ┤ X ├┤2 qft ├─╫──╫─┤M├──────\n",
      "     └───┘│      │ ║  ║ └╥┘┌─┐   \n",
      "q_3: ─────┤3     ├─╫──╫──╫─┤M├───\n",
      "     ┌───┐│      │ ║  ║  ║ └╥┘┌─┐\n",
      "q_4: ┤ X ├┤4     ├─╫──╫──╫──╫─┤M├\n",
      "     └───┘└──────┘ ║  ║  ║  ║ └╥┘\n",
      "c: 5/══════════════╩══╩══╩══╩══╩═\n",
      "                   0  1  2  3  4 \n",
      "Job Status: job has successfully run\n",
      "\n",
      " QFT Output\n",
      "-------------\n",
      "{'10011': 590, '11100': 627, '10110': 645, '01001': 620, '10001': 637, '00101': 619, '11010': 614, '01100': 618, '01000': 629, '10000': 595, '01011': 646, '11110': 603, '00100': 603, '01101': 627, '00010': 647, '11011': 634, '11111': 615, '11000': 621, '11101': 634, '00000': 616, '11001': 631, '10101': 637, '10010': 656, '00110': 632, '00001': 665, '00011': 632, '00111': 623, '01111': 652, '01110': 637, '01010': 591, '10111': 601, '10100': 603}\n"
     ]
    },
    {
     "name": "stdin",
     "output_type": "stream",
     "text": [
      " 1\n"
     ]
    },
    {
     "name": "stdout",
     "output_type": "stream",
     "text": [
      "     ┌───┐┌──────┐┌─────────┐┌─┐            \n",
      "q_0: ┤ X ├┤0     ├┤0        ├┤M├────────────\n",
      "     └───┘│      ││         │└╥┘┌─┐         \n",
      "q_1: ─────┤1     ├┤1        ├─╫─┤M├─────────\n",
      "     ┌───┐│      ││         │ ║ └╥┘┌─┐      \n",
      "q_2: ┤ X ├┤2 qft ├┤2 qft_dg ├─╫──╫─┤M├──────\n",
      "     └───┘│      ││         │ ║  ║ └╥┘┌─┐   \n",
      "q_3: ─────┤3     ├┤3        ├─╫──╫──╫─┤M├───\n",
      "     ┌───┐│      ││         │ ║  ║  ║ └╥┘┌─┐\n",
      "q_4: ┤ X ├┤4     ├┤4        ├─╫──╫──╫──╫─┤M├\n",
      "     └───┘└──────┘└─────────┘ ║  ║  ║  ║ └╥┘\n",
      "c: 5/═════════════════════════╩══╩══╩══╩══╩═\n",
      "                              0  1  2  3  4 \n",
      "Job Status: job has successfully run\n",
      "\n",
      " QFT with inverse QFT Output\n",
      "------------------------------\n",
      "{'10101': 1}\n"
     ]
    },
    {
     "name": "stdin",
     "output_type": "stream",
     "text": [
      " 2\n"
     ]
    },
    {
     "data": {
      "text/plain": [
       "'2'"
      ]
     },
     "execution_count": 25,
     "metadata": {},
     "output_type": "execute_result"
    }
   ],
   "source": [
    "from qiskit import QuantumRegister, ClassicalRegister\n",
    "from qiskit import QuantumCircuit, execute,IBMQ\n",
    "from qiskit.tools.monitor import job_monitor\n",
    "from qiskit.circuit.library import QFT\n",
    "import numpy as np\n",
    "from qiskit import IBMQ\n",
    "from qiskit import *\n",
    "#IBMQ.update_account('0fd8b1aeeec81670ba5a70e153255dfbbe867aae3114574295c76763aa4d46bb2cea3954d6c97a50b15dc222f60ab148433daf7f14697b6b48697c7a65a966ff')\n",
    "pi = np.pi\n",
    "backend = Aer.get_backend('qasm_simulator')\n",
    "q = QuantumRegister(5,'q')\n",
    "c = ClassicalRegister(5,'c')\n",
    "circuit = QuantumCircuit(q,c)\n",
    "circuit.x(q[4])\n",
    "circuit.x(q[2])\n",
    "circuit.x(q[0])\n",
    "circuit &= QFT(num_qubits=5, approximation_degree=0, do_swaps=True, inverse=False, insert_barriers=False, name='qft')\n",
    "circuit.measure(q,c)\n",
    "circuit.draw(output='mpl', filename='qft1.png')\n",
    "print(circuit)\n",
    "job = execute(circuit, backend, shots=20000)\n",
    "job_monitor(job)\n",
    "counts = job.result().get_counts()\n",
    "print(\"\\n QFT Output\")\n",
    "print(\"-------------\")\n",
    "print(counts)\n",
    "input()\n",
    "q = QuantumRegister(5,'q')\n",
    "c = ClassicalRegister(5,'c')\n",
    "circuit = QuantumCircuit(q,c)\n",
    "circuit.x(q[4])\n",
    "circuit.x(q[2])\n",
    "circuit.x(q[0])\n",
    "circuit &= QFT(num_qubits=5, approximation_degree=0, do_swaps=True, inverse=False, insert_barriers=True, name='qft')\n",
    "circuit &= QFT(num_qubits=5, approximation_degree=0, do_swaps=True, inverse=True, insert_barriers=True, name='qft')\n",
    "circuit.measure(q,c)\n",
    "circuit.draw(output='mpl',filename='qft2.png')\n",
    "print(circuit)\n",
    "job = execute(circuit, backend, shots=1)\n",
    "job_monitor(job)\n",
    "counts = job.result().get_counts()\n",
    "print(\"\\n QFT with inverse QFT Output\")\n",
    "print(\"------------------------------\")\n",
    "print(counts)\n",
    "input()"
   ]
  },
  {
   "cell_type": "markdown",
   "id": "01ae38e3-f4e6-44de-93e6-f74597704483",
   "metadata": {},
   "source": [
    "## First circuit produces Quantum fourier transform and Second Circuit produces Inverse Quantum fourier thrasform and generate the original input we supplied to the QTF Algorithm"
   ]
  },
  {
   "cell_type": "code",
   "execution_count": null,
   "id": "2f92fb35-07a7-47f0-a12b-3821fc3b174d",
   "metadata": {},
   "outputs": [],
   "source": []
  }
 ],
 "metadata": {
  "kernelspec": {
   "display_name": "Python 3 (ipykernel)",
   "language": "python",
   "name": "python3"
  },
  "language_info": {
   "codemirror_mode": {
    "name": "ipython",
    "version": 3
   },
   "file_extension": ".py",
   "mimetype": "text/x-python",
   "name": "python",
   "nbconvert_exporter": "python",
   "pygments_lexer": "ipython3",
   "version": "3.9.12"
  }
 },
 "nbformat": 4,
 "nbformat_minor": 5
}
